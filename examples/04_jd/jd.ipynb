{
 "cells": [
  {
   "cell_type": "markdown",
   "metadata": {},
   "source": [
    "# 京东商品评论\n",
    "- js文件链接找规律"
   ]
  },
  {
   "cell_type": "code",
   "execution_count": 17,
   "metadata": {},
   "outputs": [
    {
     "name": "stderr",
     "output_type": "stream",
     "text": [
      "c:\\Users\\OneRaise\\miniconda3\\Lib\\site-packages\\numpy\\_distributor_init.py:30: UserWarning: loaded more than 1 DLL from .libs:\n",
      "c:\\Users\\OneRaise\\miniconda3\\Lib\\site-packages\\numpy\\.libs\\libopenblas.FB5AE2TYXYH2IJRDKGDGQ3XBKLKTF43H.gfortran-win_amd64.dll\n",
      "c:\\Users\\OneRaise\\miniconda3\\Lib\\site-packages\\numpy\\.libs\\libopenblas64__v0.3.23-246-g3d31191b-gcc_10_3_0.dll\n",
      "  warnings.warn(\"loaded more than 1 DLL from .libs:\"\n"
     ]
    }
   ],
   "source": [
    "import requests\n",
    "import re\n",
    "import random\n",
    "import time\n",
    "import pandas as pd\n",
    "headers = {'User-Agent':'Mozilla/5.0 (Windows NT 10.0; Win64; x64) AppleWebKit/537.36 (KHTML, like Gecko) Chrome/120.0.0.0 Safari/537.36'}"
   ]
  },
  {
   "cell_type": "code",
   "execution_count": 117,
   "metadata": {},
   "outputs": [
    {
     "name": "stdout",
     "output_type": "stream",
     "text": [
      "Page0 is finished!\n",
      "Page1 is finished!\n",
      "Page2 is finished!\n",
      "Page3 is finished!\n",
      "Page4 is finished!\n",
      "Page5 is finished!\n",
      "Page6 is finished!\n",
      "Page7 is finished!\n",
      "Page8 is finished!\n",
      "Page9 is finished!\n",
      "Page10 is finished!\n",
      "Page11 is finished!\n",
      "Page12 is finished!\n",
      "Page13 is finished!\n",
      "Page14 is finished!\n",
      "Page15 is finished!\n",
      "Page16 is finished!\n",
      "Page17 is finished!\n",
      "Page18 is finished!\n",
      "Page19 is finished!\n"
     ]
    }
   ],
   "source": [
    "# 请求并保存原始数据\n",
    "for i in range(20):\n",
    "    url = f'https://api.m.jd.com/?appid=item-v3&functionId=pc_club_productPageComments&client=pc&clientVersion=1.0.0&t=1705896594150&loginType=3&uuid=181111935.17058211516981541856497.1705821151.1705821151.1705847506.2&productId=100070499374&score=0&sortType=5&page={i}&pageSize=10&isShadowSku=0&rid=0&fold=1&bbtf=&shield='\n",
    "    response = requests.get(url,headers=headers).text\n",
    "    with open(f'page{i}.js','w') as f:\n",
    "        f.write(response)\n",
    "    print(f'Page{i} is finished!')\n",
    "    time.sleep(random.randint(3,6))\n",
    "    "
   ]
  },
  {
   "cell_type": "code",
   "execution_count": 126,
   "metadata": {},
   "outputs": [],
   "source": [
    "# 提取信息并保存\n",
    "for i in range(20):\n",
    "    with open(f'page{i}.js','r') as f:\n",
    "        js = f.read()  # 这里的js数据类型是字符串\n",
    "        # 正则提取信息\n",
    "        res_id = '(?<=\"id\":)...........(?=,\"guid)'\n",
    "        res_time = '(?<=creationTime\":\")...................(?=\",)'\n",
    "        res_comment = '(?<=\"content\":\").*(?=\")'\n",
    "\n",
    "        com_id = re.findall(res_id, js)\n",
    "        com_time = re.findall(res_time, js)\n",
    "        com_comment = []  # \n",
    "        js1 = js.split(',')\n",
    "        for i in js1:\n",
    "            if len(re.findall(res_comment, i)) != 0:\n",
    "                com_comment.append(re.findall(res_comment, i))\n",
    "\n",
    "        # 保存信息\n",
    "        with open('jd_comment.csv', 'a+') as f:\n",
    "            for i in range(min(len(com_comment),len(com_id),len(com_time))):\n",
    "                f.write(com_id[i])\n",
    "                f.write(',')\n",
    "                f.write(com_time[i])\n",
    "                f.write(',')\n",
    "                f.write(str(com_comment[i]))\n",
    "                f.write('\\n')\n"
   ]
  }
 ],
 "metadata": {
  "kernelspec": {
   "display_name": "base",
   "language": "python",
   "name": "python3"
  },
  "language_info": {
   "codemirror_mode": {
    "name": "ipython",
    "version": 3
   },
   "file_extension": ".py",
   "mimetype": "text/x-python",
   "name": "python",
   "nbconvert_exporter": "python",
   "pygments_lexer": "ipython3",
   "version": "3.11.4"
  }
 },
 "nbformat": 4,
 "nbformat_minor": 2
}
