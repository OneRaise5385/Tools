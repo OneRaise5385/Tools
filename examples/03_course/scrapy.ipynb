{
 "cells": [
  {
   "cell_type": "code",
   "execution_count": 33,
   "metadata": {},
   "outputs": [],
   "source": [
    "import requests\n",
    "import csv\n",
    "import re\n",
    "import time\n",
    "import random"
   ]
  },
  {
   "cell_type": "code",
   "execution_count": 34,
   "metadata": {},
   "outputs": [],
   "source": [
    "def get_url(url_start, page_nums):\n",
    "    # 获取网站连接\n",
    "    urls = []\n",
    "    for i in range(2, page_nums+1):\n",
    "        urls.append(f'{url_start}p{i}')\n",
    "    return urls\n",
    "\n",
    "def get_info(url, address):\n",
    "    # 获取网页内容\n",
    "    headers = {'User-Agent': 'Mozilla/5.0 (Windows NT 10.0; Win64; x64) AppleWebKit/537.36 (KHTML, like Gecko) Chrome/119.0.0.0 Safari/537.36 Edg/119.0.0.0',}\n",
    "    a = requests.get(url, headers=headers).text\n",
    "    # 分析数据并存储\n",
    "\n",
    "    # 正则\n",
    "    res_title = '(?<=<b class=\"strongbox\">).*(?=</b>)'\n",
    "    res_area1 = '(?<=style=\"font-weight: normal;\">).*(?=</b>室)'\n",
    "    res_area2 = '(?<=室<b class=\"strongbox\" style=\"font-weight: normal;\">).*(?=</b>厅)'\n",
    "    res_area3 = '(?<=厅<span>\\|</span><b class=\"strongbox\" style=\"font-weight: normal;\">).*(?=</b>)'\n",
    "    res_feature1 = '(?<=<span class=\"cls-common\">).*租(?=</span>)'\n",
    "    res_price = '(?<=<strong class=\"price\">).*(?=</strong>)'\n",
    "\n",
    "    # 搜索信息\n",
    "    zu_title = re.findall(res_title, a)\n",
    "    zu_area1 = re.findall(res_area1, a)\n",
    "    zu_area2 = re.findall(res_area2, a)\n",
    "    zu_area3 = re.findall(res_area3, a)\n",
    "    zu_feature1 = re.findall(res_feature1, a)\n",
    "    zu_price = re.findall(res_price, a)\n",
    "\n",
    "    # 写入文件\n",
    "    with open(f'data/{address}.csv', 'a+', encoding='utf-8', newline='') as file_obj:\n",
    "        # 创建对象\n",
    "        writer = csv.writer(file_obj)\n",
    "        # 遍历，将每一行的数据写入csv\n",
    "        for p in range(len(zu_area1)-1):\n",
    "            writer.writerow((zu_title[p], zu_area1[p], zu_area2[p], zu_area3[p],\n",
    "                             zu_feature1[p], zu_price[p], address))\n",
    "\n",
    "def main(url_list, address):\n",
    "    for i in url_list:\n",
    "        get_info(i, address)\n",
    "        a = random.randint(3,6)\n",
    "        print(f'{address},No.{i}finish!')\n",
    "        time.sleep(a)"
   ]
  },
  {
   "cell_type": "code",
   "execution_count": 35,
   "metadata": {},
   "outputs": [],
   "source": [
    "# 获取网页链接\n",
    "jinshui_url = get_url('https://zz.zu.anjuke.com/fangyuan/jinshui/', 50)\n",
    "erqi_url = get_url('https://zz.zu.anjuke.com/fangyuan/erqic/', 50)\n",
    "zhengdongxin_url = get_url('https://zz.zu.anjuke.com/fangyuan/zhengdongxinqu/', 50)\n",
    "zhongyuan_url = get_url('https://zz.zu.anjuke.com/fangyuan/zhongyuanb/', 50)\n",
    "guancheng_url = get_url('https://zz.zu.anjuke.com/fangyuan/guanchenga/', 50)\n",
    "xinzheng_url = get_url('https://zz.zu.anjuke.com/fangyuan/xinzhengshi/', 50)\n",
    "gaoxin_url = get_url('https://zz.zu.anjuke.com/fangyuan/gaoxinqub/', 43)\n",
    "zhongmou_url = get_url('https://zz.zu.anjuke.com/fangyuan/zhongmou/', 21)\n",
    "xingyang_url = get_url('https://zz.zu.anjuke.com/fangyuan/zzxingyangshi/', 12)\n",
    "jingkai_url = get_url('https://zz.zu.anjuke.com/fangyuan/jingkaiz/', 50)\n",
    "hangkonggang_url = get_url('https://zz.zu.anjuke.com/fangyuan/hangkongganga/', 20)\n",
    "shangjie_url = get_url('https://zz.zu.anjuke.com/fangyuan/zzshangjiequ/', 5)\n",
    "gongyi_url = get_url('https://zz.zu.anjuke.com/fangyuan/gongyishi/', 4)\n",
    "dengfeng_url = ['https://zz.zu.anjuke.com/fangyuan/dengfengshi/']\n",
    "xinmi_url = ['https://zz.zu.anjuke.com/fangyuan/xinmishi/']"
   ]
  },
  {
   "cell_type": "code",
   "execution_count": 31,
   "metadata": {},
   "outputs": [],
   "source": [
    "main(jinshui_url, 'jinshui')"
   ]
  },
  {
   "cell_type": "code",
   "execution_count": 36,
   "metadata": {},
   "outputs": [
    {
     "name": "stdout",
     "output_type": "stream",
     "text": [
      "erqi,No.https://zz.zu.anjuke.com/fangyuan/erqic/p2finish!\n",
      "erqi,No.https://zz.zu.anjuke.com/fangyuan/erqic/p3finish!\n",
      "erqi,No.https://zz.zu.anjuke.com/fangyuan/erqic/p4finish!\n",
      "erqi,No.https://zz.zu.anjuke.com/fangyuan/erqic/p5finish!\n",
      "erqi,No.https://zz.zu.anjuke.com/fangyuan/erqic/p6finish!\n",
      "erqi,No.https://zz.zu.anjuke.com/fangyuan/erqic/p7finish!\n",
      "erqi,No.https://zz.zu.anjuke.com/fangyuan/erqic/p8finish!\n",
      "erqi,No.https://zz.zu.anjuke.com/fangyuan/erqic/p9finish!\n",
      "erqi,No.https://zz.zu.anjuke.com/fangyuan/erqic/p10finish!\n",
      "erqi,No.https://zz.zu.anjuke.com/fangyuan/erqic/p11finish!\n",
      "erqi,No.https://zz.zu.anjuke.com/fangyuan/erqic/p12finish!\n",
      "erqi,No.https://zz.zu.anjuke.com/fangyuan/erqic/p13finish!\n",
      "erqi,No.https://zz.zu.anjuke.com/fangyuan/erqic/p14finish!\n",
      "erqi,No.https://zz.zu.anjuke.com/fangyuan/erqic/p15finish!\n",
      "erqi,No.https://zz.zu.anjuke.com/fangyuan/erqic/p16finish!\n",
      "erqi,No.https://zz.zu.anjuke.com/fangyuan/erqic/p17finish!\n",
      "erqi,No.https://zz.zu.anjuke.com/fangyuan/erqic/p18finish!\n",
      "erqi,No.https://zz.zu.anjuke.com/fangyuan/erqic/p19finish!\n",
      "erqi,No.https://zz.zu.anjuke.com/fangyuan/erqic/p20finish!\n",
      "erqi,No.https://zz.zu.anjuke.com/fangyuan/erqic/p21finish!\n",
      "erqi,No.https://zz.zu.anjuke.com/fangyuan/erqic/p22finish!\n",
      "erqi,No.https://zz.zu.anjuke.com/fangyuan/erqic/p23finish!\n",
      "erqi,No.https://zz.zu.anjuke.com/fangyuan/erqic/p24finish!\n",
      "erqi,No.https://zz.zu.anjuke.com/fangyuan/erqic/p25finish!\n",
      "erqi,No.https://zz.zu.anjuke.com/fangyuan/erqic/p26finish!\n",
      "erqi,No.https://zz.zu.anjuke.com/fangyuan/erqic/p27finish!\n",
      "erqi,No.https://zz.zu.anjuke.com/fangyuan/erqic/p28finish!\n",
      "erqi,No.https://zz.zu.anjuke.com/fangyuan/erqic/p29finish!\n",
      "erqi,No.https://zz.zu.anjuke.com/fangyuan/erqic/p30finish!\n",
      "erqi,No.https://zz.zu.anjuke.com/fangyuan/erqic/p31finish!\n",
      "erqi,No.https://zz.zu.anjuke.com/fangyuan/erqic/p32finish!\n",
      "erqi,No.https://zz.zu.anjuke.com/fangyuan/erqic/p33finish!\n",
      "erqi,No.https://zz.zu.anjuke.com/fangyuan/erqic/p34finish!\n",
      "erqi,No.https://zz.zu.anjuke.com/fangyuan/erqic/p35finish!\n",
      "erqi,No.https://zz.zu.anjuke.com/fangyuan/erqic/p36finish!\n",
      "erqi,No.https://zz.zu.anjuke.com/fangyuan/erqic/p37finish!\n",
      "erqi,No.https://zz.zu.anjuke.com/fangyuan/erqic/p38finish!\n",
      "erqi,No.https://zz.zu.anjuke.com/fangyuan/erqic/p39finish!\n",
      "erqi,No.https://zz.zu.anjuke.com/fangyuan/erqic/p40finish!\n",
      "erqi,No.https://zz.zu.anjuke.com/fangyuan/erqic/p41finish!\n",
      "erqi,No.https://zz.zu.anjuke.com/fangyuan/erqic/p42finish!\n",
      "erqi,No.https://zz.zu.anjuke.com/fangyuan/erqic/p43finish!\n",
      "erqi,No.https://zz.zu.anjuke.com/fangyuan/erqic/p44finish!\n",
      "erqi,No.https://zz.zu.anjuke.com/fangyuan/erqic/p45finish!\n",
      "erqi,No.https://zz.zu.anjuke.com/fangyuan/erqic/p46finish!\n",
      "erqi,No.https://zz.zu.anjuke.com/fangyuan/erqic/p47finish!\n",
      "erqi,No.https://zz.zu.anjuke.com/fangyuan/erqic/p48finish!\n",
      "erqi,No.https://zz.zu.anjuke.com/fangyuan/erqic/p49finish!\n",
      "erqi,No.https://zz.zu.anjuke.com/fangyuan/erqic/p50finish!\n"
     ]
    }
   ],
   "source": [
    "main(erqi_url, 'erqi')"
   ]
  },
  {
   "cell_type": "code",
   "execution_count": 37,
   "metadata": {},
   "outputs": [
    {
     "name": "stdout",
     "output_type": "stream",
     "text": [
      "zhengdongxinqu,No.https://zz.zu.anjuke.com/fangyuan/zhengdongxinqu/p2finish!\n",
      "zhengdongxinqu,No.https://zz.zu.anjuke.com/fangyuan/zhengdongxinqu/p3finish!\n",
      "zhengdongxinqu,No.https://zz.zu.anjuke.com/fangyuan/zhengdongxinqu/p4finish!\n",
      "zhengdongxinqu,No.https://zz.zu.anjuke.com/fangyuan/zhengdongxinqu/p5finish!\n",
      "zhengdongxinqu,No.https://zz.zu.anjuke.com/fangyuan/zhengdongxinqu/p6finish!\n",
      "zhengdongxinqu,No.https://zz.zu.anjuke.com/fangyuan/zhengdongxinqu/p7finish!\n",
      "zhengdongxinqu,No.https://zz.zu.anjuke.com/fangyuan/zhengdongxinqu/p8finish!\n",
      "zhengdongxinqu,No.https://zz.zu.anjuke.com/fangyuan/zhengdongxinqu/p9finish!\n",
      "zhengdongxinqu,No.https://zz.zu.anjuke.com/fangyuan/zhengdongxinqu/p10finish!\n",
      "zhengdongxinqu,No.https://zz.zu.anjuke.com/fangyuan/zhengdongxinqu/p11finish!\n",
      "zhengdongxinqu,No.https://zz.zu.anjuke.com/fangyuan/zhengdongxinqu/p12finish!\n",
      "zhengdongxinqu,No.https://zz.zu.anjuke.com/fangyuan/zhengdongxinqu/p13finish!\n",
      "zhengdongxinqu,No.https://zz.zu.anjuke.com/fangyuan/zhengdongxinqu/p14finish!\n",
      "zhengdongxinqu,No.https://zz.zu.anjuke.com/fangyuan/zhengdongxinqu/p15finish!\n",
      "zhengdongxinqu,No.https://zz.zu.anjuke.com/fangyuan/zhengdongxinqu/p16finish!\n",
      "zhengdongxinqu,No.https://zz.zu.anjuke.com/fangyuan/zhengdongxinqu/p17finish!\n",
      "zhengdongxinqu,No.https://zz.zu.anjuke.com/fangyuan/zhengdongxinqu/p18finish!\n",
      "zhengdongxinqu,No.https://zz.zu.anjuke.com/fangyuan/zhengdongxinqu/p19finish!\n",
      "zhengdongxinqu,No.https://zz.zu.anjuke.com/fangyuan/zhengdongxinqu/p20finish!\n",
      "zhengdongxinqu,No.https://zz.zu.anjuke.com/fangyuan/zhengdongxinqu/p21finish!\n",
      "zhengdongxinqu,No.https://zz.zu.anjuke.com/fangyuan/zhengdongxinqu/p22finish!\n",
      "zhengdongxinqu,No.https://zz.zu.anjuke.com/fangyuan/zhengdongxinqu/p23finish!\n",
      "zhengdongxinqu,No.https://zz.zu.anjuke.com/fangyuan/zhengdongxinqu/p24finish!\n",
      "zhengdongxinqu,No.https://zz.zu.anjuke.com/fangyuan/zhengdongxinqu/p25finish!\n",
      "zhengdongxinqu,No.https://zz.zu.anjuke.com/fangyuan/zhengdongxinqu/p26finish!\n",
      "zhengdongxinqu,No.https://zz.zu.anjuke.com/fangyuan/zhengdongxinqu/p27finish!\n",
      "zhengdongxinqu,No.https://zz.zu.anjuke.com/fangyuan/zhengdongxinqu/p28finish!\n",
      "zhengdongxinqu,No.https://zz.zu.anjuke.com/fangyuan/zhengdongxinqu/p29finish!\n",
      "zhengdongxinqu,No.https://zz.zu.anjuke.com/fangyuan/zhengdongxinqu/p30finish!\n",
      "zhengdongxinqu,No.https://zz.zu.anjuke.com/fangyuan/zhengdongxinqu/p31finish!\n",
      "zhengdongxinqu,No.https://zz.zu.anjuke.com/fangyuan/zhengdongxinqu/p32finish!\n",
      "zhengdongxinqu,No.https://zz.zu.anjuke.com/fangyuan/zhengdongxinqu/p33finish!\n",
      "zhengdongxinqu,No.https://zz.zu.anjuke.com/fangyuan/zhengdongxinqu/p34finish!\n",
      "zhengdongxinqu,No.https://zz.zu.anjuke.com/fangyuan/zhengdongxinqu/p35finish!\n",
      "zhengdongxinqu,No.https://zz.zu.anjuke.com/fangyuan/zhengdongxinqu/p36finish!\n",
      "zhengdongxinqu,No.https://zz.zu.anjuke.com/fangyuan/zhengdongxinqu/p37finish!\n",
      "zhengdongxinqu,No.https://zz.zu.anjuke.com/fangyuan/zhengdongxinqu/p38finish!\n",
      "zhengdongxinqu,No.https://zz.zu.anjuke.com/fangyuan/zhengdongxinqu/p39finish!\n",
      "zhengdongxinqu,No.https://zz.zu.anjuke.com/fangyuan/zhengdongxinqu/p40finish!\n",
      "zhengdongxinqu,No.https://zz.zu.anjuke.com/fangyuan/zhengdongxinqu/p41finish!\n",
      "zhengdongxinqu,No.https://zz.zu.anjuke.com/fangyuan/zhengdongxinqu/p42finish!\n",
      "zhengdongxinqu,No.https://zz.zu.anjuke.com/fangyuan/zhengdongxinqu/p43finish!\n",
      "zhengdongxinqu,No.https://zz.zu.anjuke.com/fangyuan/zhengdongxinqu/p44finish!\n",
      "zhengdongxinqu,No.https://zz.zu.anjuke.com/fangyuan/zhengdongxinqu/p45finish!\n",
      "zhengdongxinqu,No.https://zz.zu.anjuke.com/fangyuan/zhengdongxinqu/p46finish!\n",
      "zhengdongxinqu,No.https://zz.zu.anjuke.com/fangyuan/zhengdongxinqu/p47finish!\n",
      "zhengdongxinqu,No.https://zz.zu.anjuke.com/fangyuan/zhengdongxinqu/p48finish!\n",
      "zhengdongxinqu,No.https://zz.zu.anjuke.com/fangyuan/zhengdongxinqu/p49finish!\n",
      "zhengdongxinqu,No.https://zz.zu.anjuke.com/fangyuan/zhengdongxinqu/p50finish!\n"
     ]
    }
   ],
   "source": [
    "main(zhengdongxin_url, 'zhengdongxinqu')"
   ]
  },
  {
   "cell_type": "code",
   "execution_count": 38,
   "metadata": {},
   "outputs": [
    {
     "name": "stdout",
     "output_type": "stream",
     "text": [
      "zhongyuan,No.https://zz.zu.anjuke.com/fangyuan/zhongyuanb/p2finish!\n",
      "zhongyuan,No.https://zz.zu.anjuke.com/fangyuan/zhongyuanb/p3finish!\n",
      "zhongyuan,No.https://zz.zu.anjuke.com/fangyuan/zhongyuanb/p4finish!\n",
      "zhongyuan,No.https://zz.zu.anjuke.com/fangyuan/zhongyuanb/p5finish!\n",
      "zhongyuan,No.https://zz.zu.anjuke.com/fangyuan/zhongyuanb/p6finish!\n",
      "zhongyuan,No.https://zz.zu.anjuke.com/fangyuan/zhongyuanb/p7finish!\n",
      "zhongyuan,No.https://zz.zu.anjuke.com/fangyuan/zhongyuanb/p8finish!\n",
      "zhongyuan,No.https://zz.zu.anjuke.com/fangyuan/zhongyuanb/p9finish!\n",
      "zhongyuan,No.https://zz.zu.anjuke.com/fangyuan/zhongyuanb/p10finish!\n",
      "zhongyuan,No.https://zz.zu.anjuke.com/fangyuan/zhongyuanb/p11finish!\n",
      "zhongyuan,No.https://zz.zu.anjuke.com/fangyuan/zhongyuanb/p12finish!\n",
      "zhongyuan,No.https://zz.zu.anjuke.com/fangyuan/zhongyuanb/p13finish!\n",
      "zhongyuan,No.https://zz.zu.anjuke.com/fangyuan/zhongyuanb/p14finish!\n",
      "zhongyuan,No.https://zz.zu.anjuke.com/fangyuan/zhongyuanb/p15finish!\n",
      "zhongyuan,No.https://zz.zu.anjuke.com/fangyuan/zhongyuanb/p16finish!\n",
      "zhongyuan,No.https://zz.zu.anjuke.com/fangyuan/zhongyuanb/p17finish!\n",
      "zhongyuan,No.https://zz.zu.anjuke.com/fangyuan/zhongyuanb/p18finish!\n",
      "zhongyuan,No.https://zz.zu.anjuke.com/fangyuan/zhongyuanb/p19finish!\n",
      "zhongyuan,No.https://zz.zu.anjuke.com/fangyuan/zhongyuanb/p20finish!\n",
      "zhongyuan,No.https://zz.zu.anjuke.com/fangyuan/zhongyuanb/p21finish!\n",
      "zhongyuan,No.https://zz.zu.anjuke.com/fangyuan/zhongyuanb/p22finish!\n",
      "zhongyuan,No.https://zz.zu.anjuke.com/fangyuan/zhongyuanb/p23finish!\n",
      "zhongyuan,No.https://zz.zu.anjuke.com/fangyuan/zhongyuanb/p24finish!\n",
      "zhongyuan,No.https://zz.zu.anjuke.com/fangyuan/zhongyuanb/p25finish!\n",
      "zhongyuan,No.https://zz.zu.anjuke.com/fangyuan/zhongyuanb/p26finish!\n",
      "zhongyuan,No.https://zz.zu.anjuke.com/fangyuan/zhongyuanb/p27finish!\n",
      "zhongyuan,No.https://zz.zu.anjuke.com/fangyuan/zhongyuanb/p28finish!\n",
      "zhongyuan,No.https://zz.zu.anjuke.com/fangyuan/zhongyuanb/p29finish!\n",
      "zhongyuan,No.https://zz.zu.anjuke.com/fangyuan/zhongyuanb/p30finish!\n",
      "zhongyuan,No.https://zz.zu.anjuke.com/fangyuan/zhongyuanb/p31finish!\n",
      "zhongyuan,No.https://zz.zu.anjuke.com/fangyuan/zhongyuanb/p32finish!\n",
      "zhongyuan,No.https://zz.zu.anjuke.com/fangyuan/zhongyuanb/p33finish!\n",
      "zhongyuan,No.https://zz.zu.anjuke.com/fangyuan/zhongyuanb/p34finish!\n",
      "zhongyuan,No.https://zz.zu.anjuke.com/fangyuan/zhongyuanb/p35finish!\n",
      "zhongyuan,No.https://zz.zu.anjuke.com/fangyuan/zhongyuanb/p36finish!\n",
      "zhongyuan,No.https://zz.zu.anjuke.com/fangyuan/zhongyuanb/p37finish!\n",
      "zhongyuan,No.https://zz.zu.anjuke.com/fangyuan/zhongyuanb/p38finish!\n",
      "zhongyuan,No.https://zz.zu.anjuke.com/fangyuan/zhongyuanb/p39finish!\n",
      "zhongyuan,No.https://zz.zu.anjuke.com/fangyuan/zhongyuanb/p40finish!\n",
      "zhongyuan,No.https://zz.zu.anjuke.com/fangyuan/zhongyuanb/p41finish!\n",
      "zhongyuan,No.https://zz.zu.anjuke.com/fangyuan/zhongyuanb/p42finish!\n",
      "zhongyuan,No.https://zz.zu.anjuke.com/fangyuan/zhongyuanb/p43finish!\n",
      "zhongyuan,No.https://zz.zu.anjuke.com/fangyuan/zhongyuanb/p44finish!\n",
      "zhongyuan,No.https://zz.zu.anjuke.com/fangyuan/zhongyuanb/p45finish!\n",
      "zhongyuan,No.https://zz.zu.anjuke.com/fangyuan/zhongyuanb/p46finish!\n",
      "zhongyuan,No.https://zz.zu.anjuke.com/fangyuan/zhongyuanb/p47finish!\n",
      "zhongyuan,No.https://zz.zu.anjuke.com/fangyuan/zhongyuanb/p48finish!\n",
      "zhongyuan,No.https://zz.zu.anjuke.com/fangyuan/zhongyuanb/p49finish!\n",
      "zhongyuan,No.https://zz.zu.anjuke.com/fangyuan/zhongyuanb/p50finish!\n"
     ]
    }
   ],
   "source": [
    "main(zhongyuan_url, 'zhongyuan')"
   ]
  },
  {
   "cell_type": "code",
   "execution_count": 39,
   "metadata": {},
   "outputs": [
    {
     "name": "stdout",
     "output_type": "stream",
     "text": [
      "guancheng,No.https://zz.zu.anjuke.com/fangyuan/guanchenga/p2finish!\n",
      "guancheng,No.https://zz.zu.anjuke.com/fangyuan/guanchenga/p3finish!\n",
      "guancheng,No.https://zz.zu.anjuke.com/fangyuan/guanchenga/p4finish!\n",
      "guancheng,No.https://zz.zu.anjuke.com/fangyuan/guanchenga/p5finish!\n",
      "guancheng,No.https://zz.zu.anjuke.com/fangyuan/guanchenga/p6finish!\n",
      "guancheng,No.https://zz.zu.anjuke.com/fangyuan/guanchenga/p7finish!\n",
      "guancheng,No.https://zz.zu.anjuke.com/fangyuan/guanchenga/p8finish!\n",
      "guancheng,No.https://zz.zu.anjuke.com/fangyuan/guanchenga/p9finish!\n",
      "guancheng,No.https://zz.zu.anjuke.com/fangyuan/guanchenga/p10finish!\n",
      "guancheng,No.https://zz.zu.anjuke.com/fangyuan/guanchenga/p11finish!\n",
      "guancheng,No.https://zz.zu.anjuke.com/fangyuan/guanchenga/p12finish!\n",
      "guancheng,No.https://zz.zu.anjuke.com/fangyuan/guanchenga/p13finish!\n",
      "guancheng,No.https://zz.zu.anjuke.com/fangyuan/guanchenga/p14finish!\n",
      "guancheng,No.https://zz.zu.anjuke.com/fangyuan/guanchenga/p15finish!\n",
      "guancheng,No.https://zz.zu.anjuke.com/fangyuan/guanchenga/p16finish!\n",
      "guancheng,No.https://zz.zu.anjuke.com/fangyuan/guanchenga/p17finish!\n",
      "guancheng,No.https://zz.zu.anjuke.com/fangyuan/guanchenga/p18finish!\n",
      "guancheng,No.https://zz.zu.anjuke.com/fangyuan/guanchenga/p19finish!\n",
      "guancheng,No.https://zz.zu.anjuke.com/fangyuan/guanchenga/p20finish!\n",
      "guancheng,No.https://zz.zu.anjuke.com/fangyuan/guanchenga/p21finish!\n",
      "guancheng,No.https://zz.zu.anjuke.com/fangyuan/guanchenga/p22finish!\n",
      "guancheng,No.https://zz.zu.anjuke.com/fangyuan/guanchenga/p23finish!\n",
      "guancheng,No.https://zz.zu.anjuke.com/fangyuan/guanchenga/p24finish!\n",
      "guancheng,No.https://zz.zu.anjuke.com/fangyuan/guanchenga/p25finish!\n",
      "guancheng,No.https://zz.zu.anjuke.com/fangyuan/guanchenga/p26finish!\n",
      "guancheng,No.https://zz.zu.anjuke.com/fangyuan/guanchenga/p27finish!\n",
      "guancheng,No.https://zz.zu.anjuke.com/fangyuan/guanchenga/p28finish!\n",
      "guancheng,No.https://zz.zu.anjuke.com/fangyuan/guanchenga/p29finish!\n",
      "guancheng,No.https://zz.zu.anjuke.com/fangyuan/guanchenga/p30finish!\n",
      "guancheng,No.https://zz.zu.anjuke.com/fangyuan/guanchenga/p31finish!\n",
      "guancheng,No.https://zz.zu.anjuke.com/fangyuan/guanchenga/p32finish!\n",
      "guancheng,No.https://zz.zu.anjuke.com/fangyuan/guanchenga/p33finish!\n",
      "guancheng,No.https://zz.zu.anjuke.com/fangyuan/guanchenga/p34finish!\n",
      "guancheng,No.https://zz.zu.anjuke.com/fangyuan/guanchenga/p35finish!\n",
      "guancheng,No.https://zz.zu.anjuke.com/fangyuan/guanchenga/p36finish!\n",
      "guancheng,No.https://zz.zu.anjuke.com/fangyuan/guanchenga/p37finish!\n",
      "guancheng,No.https://zz.zu.anjuke.com/fangyuan/guanchenga/p38finish!\n",
      "guancheng,No.https://zz.zu.anjuke.com/fangyuan/guanchenga/p39finish!\n",
      "guancheng,No.https://zz.zu.anjuke.com/fangyuan/guanchenga/p40finish!\n",
      "guancheng,No.https://zz.zu.anjuke.com/fangyuan/guanchenga/p41finish!\n",
      "guancheng,No.https://zz.zu.anjuke.com/fangyuan/guanchenga/p42finish!\n",
      "guancheng,No.https://zz.zu.anjuke.com/fangyuan/guanchenga/p43finish!\n",
      "guancheng,No.https://zz.zu.anjuke.com/fangyuan/guanchenga/p44finish!\n",
      "guancheng,No.https://zz.zu.anjuke.com/fangyuan/guanchenga/p45finish!\n",
      "guancheng,No.https://zz.zu.anjuke.com/fangyuan/guanchenga/p46finish!\n",
      "guancheng,No.https://zz.zu.anjuke.com/fangyuan/guanchenga/p47finish!\n",
      "guancheng,No.https://zz.zu.anjuke.com/fangyuan/guanchenga/p48finish!\n",
      "guancheng,No.https://zz.zu.anjuke.com/fangyuan/guanchenga/p49finish!\n",
      "guancheng,No.https://zz.zu.anjuke.com/fangyuan/guanchenga/p50finish!\n"
     ]
    }
   ],
   "source": [
    "main(guancheng_url, 'guancheng')"
   ]
  },
  {
   "cell_type": "code",
   "execution_count": 40,
   "metadata": {},
   "outputs": [
    {
     "name": "stdout",
     "output_type": "stream",
     "text": [
      "xinzheng,No.https://zz.zu.anjuke.com/fangyuan/xinzhengshi/p2finish!\n",
      "xinzheng,No.https://zz.zu.anjuke.com/fangyuan/xinzhengshi/p3finish!\n",
      "xinzheng,No.https://zz.zu.anjuke.com/fangyuan/xinzhengshi/p4finish!\n",
      "xinzheng,No.https://zz.zu.anjuke.com/fangyuan/xinzhengshi/p5finish!\n",
      "xinzheng,No.https://zz.zu.anjuke.com/fangyuan/xinzhengshi/p6finish!\n",
      "xinzheng,No.https://zz.zu.anjuke.com/fangyuan/xinzhengshi/p7finish!\n",
      "xinzheng,No.https://zz.zu.anjuke.com/fangyuan/xinzhengshi/p8finish!\n",
      "xinzheng,No.https://zz.zu.anjuke.com/fangyuan/xinzhengshi/p9finish!\n",
      "xinzheng,No.https://zz.zu.anjuke.com/fangyuan/xinzhengshi/p10finish!\n",
      "xinzheng,No.https://zz.zu.anjuke.com/fangyuan/xinzhengshi/p11finish!\n",
      "xinzheng,No.https://zz.zu.anjuke.com/fangyuan/xinzhengshi/p12finish!\n",
      "xinzheng,No.https://zz.zu.anjuke.com/fangyuan/xinzhengshi/p13finish!\n",
      "xinzheng,No.https://zz.zu.anjuke.com/fangyuan/xinzhengshi/p14finish!\n",
      "xinzheng,No.https://zz.zu.anjuke.com/fangyuan/xinzhengshi/p15finish!\n",
      "xinzheng,No.https://zz.zu.anjuke.com/fangyuan/xinzhengshi/p16finish!\n",
      "xinzheng,No.https://zz.zu.anjuke.com/fangyuan/xinzhengshi/p17finish!\n",
      "xinzheng,No.https://zz.zu.anjuke.com/fangyuan/xinzhengshi/p18finish!\n",
      "xinzheng,No.https://zz.zu.anjuke.com/fangyuan/xinzhengshi/p19finish!\n",
      "xinzheng,No.https://zz.zu.anjuke.com/fangyuan/xinzhengshi/p20finish!\n",
      "xinzheng,No.https://zz.zu.anjuke.com/fangyuan/xinzhengshi/p21finish!\n",
      "xinzheng,No.https://zz.zu.anjuke.com/fangyuan/xinzhengshi/p22finish!\n",
      "xinzheng,No.https://zz.zu.anjuke.com/fangyuan/xinzhengshi/p23finish!\n",
      "xinzheng,No.https://zz.zu.anjuke.com/fangyuan/xinzhengshi/p24finish!\n",
      "xinzheng,No.https://zz.zu.anjuke.com/fangyuan/xinzhengshi/p25finish!\n",
      "xinzheng,No.https://zz.zu.anjuke.com/fangyuan/xinzhengshi/p26finish!\n",
      "xinzheng,No.https://zz.zu.anjuke.com/fangyuan/xinzhengshi/p27finish!\n",
      "xinzheng,No.https://zz.zu.anjuke.com/fangyuan/xinzhengshi/p28finish!\n",
      "xinzheng,No.https://zz.zu.anjuke.com/fangyuan/xinzhengshi/p29finish!\n",
      "xinzheng,No.https://zz.zu.anjuke.com/fangyuan/xinzhengshi/p30finish!\n",
      "xinzheng,No.https://zz.zu.anjuke.com/fangyuan/xinzhengshi/p31finish!\n",
      "xinzheng,No.https://zz.zu.anjuke.com/fangyuan/xinzhengshi/p32finish!\n",
      "xinzheng,No.https://zz.zu.anjuke.com/fangyuan/xinzhengshi/p33finish!\n",
      "xinzheng,No.https://zz.zu.anjuke.com/fangyuan/xinzhengshi/p34finish!\n",
      "xinzheng,No.https://zz.zu.anjuke.com/fangyuan/xinzhengshi/p35finish!\n",
      "xinzheng,No.https://zz.zu.anjuke.com/fangyuan/xinzhengshi/p36finish!\n",
      "xinzheng,No.https://zz.zu.anjuke.com/fangyuan/xinzhengshi/p37finish!\n",
      "xinzheng,No.https://zz.zu.anjuke.com/fangyuan/xinzhengshi/p38finish!\n",
      "xinzheng,No.https://zz.zu.anjuke.com/fangyuan/xinzhengshi/p39finish!\n",
      "xinzheng,No.https://zz.zu.anjuke.com/fangyuan/xinzhengshi/p40finish!\n",
      "xinzheng,No.https://zz.zu.anjuke.com/fangyuan/xinzhengshi/p41finish!\n",
      "xinzheng,No.https://zz.zu.anjuke.com/fangyuan/xinzhengshi/p42finish!\n",
      "xinzheng,No.https://zz.zu.anjuke.com/fangyuan/xinzhengshi/p43finish!\n",
      "xinzheng,No.https://zz.zu.anjuke.com/fangyuan/xinzhengshi/p44finish!\n",
      "xinzheng,No.https://zz.zu.anjuke.com/fangyuan/xinzhengshi/p45finish!\n",
      "xinzheng,No.https://zz.zu.anjuke.com/fangyuan/xinzhengshi/p46finish!\n",
      "xinzheng,No.https://zz.zu.anjuke.com/fangyuan/xinzhengshi/p47finish!\n",
      "xinzheng,No.https://zz.zu.anjuke.com/fangyuan/xinzhengshi/p48finish!\n",
      "xinzheng,No.https://zz.zu.anjuke.com/fangyuan/xinzhengshi/p49finish!\n",
      "xinzheng,No.https://zz.zu.anjuke.com/fangyuan/xinzhengshi/p50finish!\n"
     ]
    }
   ],
   "source": [
    "main(xinzheng_url, 'xinzheng')"
   ]
  },
  {
   "cell_type": "code",
   "execution_count": 41,
   "metadata": {},
   "outputs": [
    {
     "name": "stdout",
     "output_type": "stream",
     "text": [
      "gaoxin,No.https://zz.zu.anjuke.com/fangyuan/gaoxinqub/p2finish!\n",
      "gaoxin,No.https://zz.zu.anjuke.com/fangyuan/gaoxinqub/p3finish!\n",
      "gaoxin,No.https://zz.zu.anjuke.com/fangyuan/gaoxinqub/p4finish!\n",
      "gaoxin,No.https://zz.zu.anjuke.com/fangyuan/gaoxinqub/p5finish!\n",
      "gaoxin,No.https://zz.zu.anjuke.com/fangyuan/gaoxinqub/p6finish!\n",
      "gaoxin,No.https://zz.zu.anjuke.com/fangyuan/gaoxinqub/p7finish!\n",
      "gaoxin,No.https://zz.zu.anjuke.com/fangyuan/gaoxinqub/p8finish!\n",
      "gaoxin,No.https://zz.zu.anjuke.com/fangyuan/gaoxinqub/p9finish!\n",
      "gaoxin,No.https://zz.zu.anjuke.com/fangyuan/gaoxinqub/p10finish!\n",
      "gaoxin,No.https://zz.zu.anjuke.com/fangyuan/gaoxinqub/p11finish!\n",
      "gaoxin,No.https://zz.zu.anjuke.com/fangyuan/gaoxinqub/p12finish!\n",
      "gaoxin,No.https://zz.zu.anjuke.com/fangyuan/gaoxinqub/p13finish!\n",
      "gaoxin,No.https://zz.zu.anjuke.com/fangyuan/gaoxinqub/p14finish!\n",
      "gaoxin,No.https://zz.zu.anjuke.com/fangyuan/gaoxinqub/p15finish!\n",
      "gaoxin,No.https://zz.zu.anjuke.com/fangyuan/gaoxinqub/p16finish!\n",
      "gaoxin,No.https://zz.zu.anjuke.com/fangyuan/gaoxinqub/p17finish!\n",
      "gaoxin,No.https://zz.zu.anjuke.com/fangyuan/gaoxinqub/p18finish!\n",
      "gaoxin,No.https://zz.zu.anjuke.com/fangyuan/gaoxinqub/p19finish!\n",
      "gaoxin,No.https://zz.zu.anjuke.com/fangyuan/gaoxinqub/p20finish!\n",
      "gaoxin,No.https://zz.zu.anjuke.com/fangyuan/gaoxinqub/p21finish!\n",
      "gaoxin,No.https://zz.zu.anjuke.com/fangyuan/gaoxinqub/p22finish!\n",
      "gaoxin,No.https://zz.zu.anjuke.com/fangyuan/gaoxinqub/p23finish!\n",
      "gaoxin,No.https://zz.zu.anjuke.com/fangyuan/gaoxinqub/p24finish!\n",
      "gaoxin,No.https://zz.zu.anjuke.com/fangyuan/gaoxinqub/p25finish!\n",
      "gaoxin,No.https://zz.zu.anjuke.com/fangyuan/gaoxinqub/p26finish!\n",
      "gaoxin,No.https://zz.zu.anjuke.com/fangyuan/gaoxinqub/p27finish!\n",
      "gaoxin,No.https://zz.zu.anjuke.com/fangyuan/gaoxinqub/p28finish!\n",
      "gaoxin,No.https://zz.zu.anjuke.com/fangyuan/gaoxinqub/p29finish!\n",
      "gaoxin,No.https://zz.zu.anjuke.com/fangyuan/gaoxinqub/p30finish!\n",
      "gaoxin,No.https://zz.zu.anjuke.com/fangyuan/gaoxinqub/p31finish!\n",
      "gaoxin,No.https://zz.zu.anjuke.com/fangyuan/gaoxinqub/p32finish!\n",
      "gaoxin,No.https://zz.zu.anjuke.com/fangyuan/gaoxinqub/p33finish!\n",
      "gaoxin,No.https://zz.zu.anjuke.com/fangyuan/gaoxinqub/p34finish!\n",
      "gaoxin,No.https://zz.zu.anjuke.com/fangyuan/gaoxinqub/p35finish!\n",
      "gaoxin,No.https://zz.zu.anjuke.com/fangyuan/gaoxinqub/p36finish!\n",
      "gaoxin,No.https://zz.zu.anjuke.com/fangyuan/gaoxinqub/p37finish!\n",
      "gaoxin,No.https://zz.zu.anjuke.com/fangyuan/gaoxinqub/p38finish!\n",
      "gaoxin,No.https://zz.zu.anjuke.com/fangyuan/gaoxinqub/p39finish!\n",
      "gaoxin,No.https://zz.zu.anjuke.com/fangyuan/gaoxinqub/p40finish!\n",
      "gaoxin,No.https://zz.zu.anjuke.com/fangyuan/gaoxinqub/p41finish!\n",
      "gaoxin,No.https://zz.zu.anjuke.com/fangyuan/gaoxinqub/p42finish!\n",
      "gaoxin,No.https://zz.zu.anjuke.com/fangyuan/gaoxinqub/p43finish!\n"
     ]
    }
   ],
   "source": [
    "main(gaoxin_url, 'gaoxin')"
   ]
  },
  {
   "cell_type": "code",
   "execution_count": 42,
   "metadata": {},
   "outputs": [
    {
     "name": "stdout",
     "output_type": "stream",
     "text": [
      "zhongmou,No.https://zz.zu.anjuke.com/fangyuan/zhongmou/p2finish!\n",
      "zhongmou,No.https://zz.zu.anjuke.com/fangyuan/zhongmou/p3finish!\n",
      "zhongmou,No.https://zz.zu.anjuke.com/fangyuan/zhongmou/p4finish!\n",
      "zhongmou,No.https://zz.zu.anjuke.com/fangyuan/zhongmou/p5finish!\n",
      "zhongmou,No.https://zz.zu.anjuke.com/fangyuan/zhongmou/p6finish!\n",
      "zhongmou,No.https://zz.zu.anjuke.com/fangyuan/zhongmou/p7finish!\n",
      "zhongmou,No.https://zz.zu.anjuke.com/fangyuan/zhongmou/p8finish!\n",
      "zhongmou,No.https://zz.zu.anjuke.com/fangyuan/zhongmou/p9finish!\n",
      "zhongmou,No.https://zz.zu.anjuke.com/fangyuan/zhongmou/p10finish!\n",
      "zhongmou,No.https://zz.zu.anjuke.com/fangyuan/zhongmou/p11finish!\n",
      "zhongmou,No.https://zz.zu.anjuke.com/fangyuan/zhongmou/p12finish!\n",
      "zhongmou,No.https://zz.zu.anjuke.com/fangyuan/zhongmou/p13finish!\n",
      "zhongmou,No.https://zz.zu.anjuke.com/fangyuan/zhongmou/p14finish!\n",
      "zhongmou,No.https://zz.zu.anjuke.com/fangyuan/zhongmou/p15finish!\n",
      "zhongmou,No.https://zz.zu.anjuke.com/fangyuan/zhongmou/p16finish!\n",
      "zhongmou,No.https://zz.zu.anjuke.com/fangyuan/zhongmou/p17finish!\n",
      "zhongmou,No.https://zz.zu.anjuke.com/fangyuan/zhongmou/p18finish!\n",
      "zhongmou,No.https://zz.zu.anjuke.com/fangyuan/zhongmou/p19finish!\n",
      "zhongmou,No.https://zz.zu.anjuke.com/fangyuan/zhongmou/p20finish!\n",
      "zhongmou,No.https://zz.zu.anjuke.com/fangyuan/zhongmou/p21finish!\n"
     ]
    }
   ],
   "source": [
    "main(zhongmou_url, 'zhongmou')"
   ]
  },
  {
   "cell_type": "code",
   "execution_count": 43,
   "metadata": {},
   "outputs": [
    {
     "name": "stdout",
     "output_type": "stream",
     "text": [
      "xingyang,No.https://zz.zu.anjuke.com/fangyuan/zzxingyangshi/p2finish!\n",
      "xingyang,No.https://zz.zu.anjuke.com/fangyuan/zzxingyangshi/p3finish!\n",
      "xingyang,No.https://zz.zu.anjuke.com/fangyuan/zzxingyangshi/p4finish!\n",
      "xingyang,No.https://zz.zu.anjuke.com/fangyuan/zzxingyangshi/p5finish!\n",
      "xingyang,No.https://zz.zu.anjuke.com/fangyuan/zzxingyangshi/p6finish!\n",
      "xingyang,No.https://zz.zu.anjuke.com/fangyuan/zzxingyangshi/p7finish!\n",
      "xingyang,No.https://zz.zu.anjuke.com/fangyuan/zzxingyangshi/p8finish!\n",
      "xingyang,No.https://zz.zu.anjuke.com/fangyuan/zzxingyangshi/p9finish!\n",
      "xingyang,No.https://zz.zu.anjuke.com/fangyuan/zzxingyangshi/p10finish!\n",
      "xingyang,No.https://zz.zu.anjuke.com/fangyuan/zzxingyangshi/p11finish!\n",
      "xingyang,No.https://zz.zu.anjuke.com/fangyuan/zzxingyangshi/p12finish!\n"
     ]
    }
   ],
   "source": [
    "main(xingyang_url, 'xingyang')"
   ]
  },
  {
   "cell_type": "code",
   "execution_count": 44,
   "metadata": {},
   "outputs": [
    {
     "name": "stdout",
     "output_type": "stream",
     "text": [
      "jingkai,No.https://zz.zu.anjuke.com/fangyuan/jingkaiz/p2finish!\n",
      "jingkai,No.https://zz.zu.anjuke.com/fangyuan/jingkaiz/p3finish!\n",
      "jingkai,No.https://zz.zu.anjuke.com/fangyuan/jingkaiz/p4finish!\n",
      "jingkai,No.https://zz.zu.anjuke.com/fangyuan/jingkaiz/p5finish!\n",
      "jingkai,No.https://zz.zu.anjuke.com/fangyuan/jingkaiz/p6finish!\n",
      "jingkai,No.https://zz.zu.anjuke.com/fangyuan/jingkaiz/p7finish!\n",
      "jingkai,No.https://zz.zu.anjuke.com/fangyuan/jingkaiz/p8finish!\n",
      "jingkai,No.https://zz.zu.anjuke.com/fangyuan/jingkaiz/p9finish!\n",
      "jingkai,No.https://zz.zu.anjuke.com/fangyuan/jingkaiz/p10finish!\n",
      "jingkai,No.https://zz.zu.anjuke.com/fangyuan/jingkaiz/p11finish!\n",
      "jingkai,No.https://zz.zu.anjuke.com/fangyuan/jingkaiz/p12finish!\n",
      "jingkai,No.https://zz.zu.anjuke.com/fangyuan/jingkaiz/p13finish!\n",
      "jingkai,No.https://zz.zu.anjuke.com/fangyuan/jingkaiz/p14finish!\n",
      "jingkai,No.https://zz.zu.anjuke.com/fangyuan/jingkaiz/p15finish!\n",
      "jingkai,No.https://zz.zu.anjuke.com/fangyuan/jingkaiz/p16finish!\n",
      "jingkai,No.https://zz.zu.anjuke.com/fangyuan/jingkaiz/p17finish!\n",
      "jingkai,No.https://zz.zu.anjuke.com/fangyuan/jingkaiz/p18finish!\n",
      "jingkai,No.https://zz.zu.anjuke.com/fangyuan/jingkaiz/p19finish!\n",
      "jingkai,No.https://zz.zu.anjuke.com/fangyuan/jingkaiz/p20finish!\n",
      "jingkai,No.https://zz.zu.anjuke.com/fangyuan/jingkaiz/p21finish!\n",
      "jingkai,No.https://zz.zu.anjuke.com/fangyuan/jingkaiz/p22finish!\n",
      "jingkai,No.https://zz.zu.anjuke.com/fangyuan/jingkaiz/p23finish!\n",
      "jingkai,No.https://zz.zu.anjuke.com/fangyuan/jingkaiz/p24finish!\n",
      "jingkai,No.https://zz.zu.anjuke.com/fangyuan/jingkaiz/p25finish!\n",
      "jingkai,No.https://zz.zu.anjuke.com/fangyuan/jingkaiz/p26finish!\n",
      "jingkai,No.https://zz.zu.anjuke.com/fangyuan/jingkaiz/p27finish!\n",
      "jingkai,No.https://zz.zu.anjuke.com/fangyuan/jingkaiz/p28finish!\n",
      "jingkai,No.https://zz.zu.anjuke.com/fangyuan/jingkaiz/p29finish!\n",
      "jingkai,No.https://zz.zu.anjuke.com/fangyuan/jingkaiz/p30finish!\n",
      "jingkai,No.https://zz.zu.anjuke.com/fangyuan/jingkaiz/p31finish!\n",
      "jingkai,No.https://zz.zu.anjuke.com/fangyuan/jingkaiz/p32finish!\n",
      "jingkai,No.https://zz.zu.anjuke.com/fangyuan/jingkaiz/p33finish!\n",
      "jingkai,No.https://zz.zu.anjuke.com/fangyuan/jingkaiz/p34finish!\n",
      "jingkai,No.https://zz.zu.anjuke.com/fangyuan/jingkaiz/p35finish!\n",
      "jingkai,No.https://zz.zu.anjuke.com/fangyuan/jingkaiz/p36finish!\n",
      "jingkai,No.https://zz.zu.anjuke.com/fangyuan/jingkaiz/p37finish!\n",
      "jingkai,No.https://zz.zu.anjuke.com/fangyuan/jingkaiz/p38finish!\n",
      "jingkai,No.https://zz.zu.anjuke.com/fangyuan/jingkaiz/p39finish!\n",
      "jingkai,No.https://zz.zu.anjuke.com/fangyuan/jingkaiz/p40finish!\n",
      "jingkai,No.https://zz.zu.anjuke.com/fangyuan/jingkaiz/p41finish!\n",
      "jingkai,No.https://zz.zu.anjuke.com/fangyuan/jingkaiz/p42finish!\n",
      "jingkai,No.https://zz.zu.anjuke.com/fangyuan/jingkaiz/p43finish!\n",
      "jingkai,No.https://zz.zu.anjuke.com/fangyuan/jingkaiz/p44finish!\n",
      "jingkai,No.https://zz.zu.anjuke.com/fangyuan/jingkaiz/p45finish!\n",
      "jingkai,No.https://zz.zu.anjuke.com/fangyuan/jingkaiz/p46finish!\n",
      "jingkai,No.https://zz.zu.anjuke.com/fangyuan/jingkaiz/p47finish!\n",
      "jingkai,No.https://zz.zu.anjuke.com/fangyuan/jingkaiz/p48finish!\n",
      "jingkai,No.https://zz.zu.anjuke.com/fangyuan/jingkaiz/p49finish!\n",
      "jingkai,No.https://zz.zu.anjuke.com/fangyuan/jingkaiz/p50finish!\n"
     ]
    }
   ],
   "source": [
    "main(jingkai_url, 'jingkai')"
   ]
  },
  {
   "cell_type": "code",
   "execution_count": 45,
   "metadata": {},
   "outputs": [
    {
     "name": "stdout",
     "output_type": "stream",
     "text": [
      "hangkonggang,No.https://zz.zu.anjuke.com/fangyuan/hangkongganga/p2finish!\n",
      "hangkonggang,No.https://zz.zu.anjuke.com/fangyuan/hangkongganga/p3finish!\n",
      "hangkonggang,No.https://zz.zu.anjuke.com/fangyuan/hangkongganga/p4finish!\n",
      "hangkonggang,No.https://zz.zu.anjuke.com/fangyuan/hangkongganga/p5finish!\n",
      "hangkonggang,No.https://zz.zu.anjuke.com/fangyuan/hangkongganga/p6finish!\n",
      "hangkonggang,No.https://zz.zu.anjuke.com/fangyuan/hangkongganga/p7finish!\n",
      "hangkonggang,No.https://zz.zu.anjuke.com/fangyuan/hangkongganga/p8finish!\n",
      "hangkonggang,No.https://zz.zu.anjuke.com/fangyuan/hangkongganga/p9finish!\n",
      "hangkonggang,No.https://zz.zu.anjuke.com/fangyuan/hangkongganga/p10finish!\n",
      "hangkonggang,No.https://zz.zu.anjuke.com/fangyuan/hangkongganga/p11finish!\n",
      "hangkonggang,No.https://zz.zu.anjuke.com/fangyuan/hangkongganga/p12finish!\n",
      "hangkonggang,No.https://zz.zu.anjuke.com/fangyuan/hangkongganga/p13finish!\n",
      "hangkonggang,No.https://zz.zu.anjuke.com/fangyuan/hangkongganga/p14finish!\n",
      "hangkonggang,No.https://zz.zu.anjuke.com/fangyuan/hangkongganga/p15finish!\n",
      "hangkonggang,No.https://zz.zu.anjuke.com/fangyuan/hangkongganga/p16finish!\n",
      "hangkonggang,No.https://zz.zu.anjuke.com/fangyuan/hangkongganga/p17finish!\n",
      "hangkonggang,No.https://zz.zu.anjuke.com/fangyuan/hangkongganga/p18finish!\n",
      "hangkonggang,No.https://zz.zu.anjuke.com/fangyuan/hangkongganga/p19finish!\n",
      "hangkonggang,No.https://zz.zu.anjuke.com/fangyuan/hangkongganga/p20finish!\n"
     ]
    }
   ],
   "source": [
    "main(hangkonggang_url, 'hangkonggang')"
   ]
  },
  {
   "cell_type": "code",
   "execution_count": 46,
   "metadata": {},
   "outputs": [
    {
     "name": "stdout",
     "output_type": "stream",
     "text": [
      "shangjie,No.https://zz.zu.anjuke.com/fangyuan/zzshangjiequ/p2finish!\n",
      "shangjie,No.https://zz.zu.anjuke.com/fangyuan/zzshangjiequ/p3finish!\n",
      "shangjie,No.https://zz.zu.anjuke.com/fangyuan/zzshangjiequ/p4finish!\n",
      "shangjie,No.https://zz.zu.anjuke.com/fangyuan/zzshangjiequ/p5finish!\n"
     ]
    }
   ],
   "source": [
    "main(shangjie_url, 'shangjie')"
   ]
  },
  {
   "cell_type": "code",
   "execution_count": 47,
   "metadata": {},
   "outputs": [
    {
     "name": "stdout",
     "output_type": "stream",
     "text": [
      "gongyi,No.https://zz.zu.anjuke.com/fangyuan/gongyishi/p2finish!\n",
      "gongyi,No.https://zz.zu.anjuke.com/fangyuan/gongyishi/p3finish!\n",
      "gongyi,No.https://zz.zu.anjuke.com/fangyuan/gongyishi/p4finish!\n"
     ]
    }
   ],
   "source": [
    "main(gongyi_url, 'gongyi')"
   ]
  },
  {
   "cell_type": "code",
   "execution_count": 48,
   "metadata": {},
   "outputs": [
    {
     "name": "stdout",
     "output_type": "stream",
     "text": [
      "dengfeng,No.https://zz.zu.anjuke.com/fangyuan/dengfengshi/finish!\n"
     ]
    }
   ],
   "source": [
    "main(dengfeng_url, 'dengfeng')"
   ]
  }
 ],
 "metadata": {
  "kernelspec": {
   "display_name": "base",
   "language": "python",
   "name": "python3"
  },
  "language_info": {
   "codemirror_mode": {
    "name": "ipython",
    "version": 3
   },
   "file_extension": ".py",
   "mimetype": "text/x-python",
   "name": "python",
   "nbconvert_exporter": "python",
   "pygments_lexer": "ipython3",
   "version": "3.11.4"
  }
 },
 "nbformat": 4,
 "nbformat_minor": 2
}
