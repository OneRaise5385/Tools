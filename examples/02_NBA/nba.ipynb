{
 "cells": [
  {
   "cell_type": "code",
   "execution_count": 97,
   "metadata": {},
   "outputs": [
    {
     "name": "stderr",
     "output_type": "stream",
     "text": [
      "c:\\Users\\OneRaise\\miniconda3\\Lib\\site-packages\\numpy\\_distributor_init.py:30: UserWarning: loaded more than 1 DLL from .libs:\n",
      "c:\\Users\\OneRaise\\miniconda3\\Lib\\site-packages\\numpy\\.libs\\libopenblas.FB5AE2TYXYH2IJRDKGDGQ3XBKLKTF43H.gfortran-win_amd64.dll\n",
      "c:\\Users\\OneRaise\\miniconda3\\Lib\\site-packages\\numpy\\.libs\\libopenblas64__v0.3.23-246-g3d31191b-gcc_10_3_0.dll\n",
      "  warnings.warn(\"loaded more than 1 DLL from .libs:\"\n"
     ]
    }
   ],
   "source": [
    "import requests\n",
    "from lxml import etree\n",
    "import pandas as pd\n",
    "url1 = 'https://nba.hupu.com/stats/players/pts'\n",
    "headers = {'User-Agent':'Mozilla/5.0 (Windows NT 10.0; Win64; x64) AppleWebKit/537.36 (KHTML, like Gecko) Chrome/120.0.0.0 Safari/537.36'}"
   ]
  },
  {
   "cell_type": "code",
   "execution_count": 12,
   "metadata": {},
   "outputs": [],
   "source": [
    "# 请求数据\n",
    "request1 = requests.get(url1,headers=headers)"
   ]
  },
  {
   "cell_type": "code",
   "execution_count": 96,
   "metadata": {},
   "outputs": [],
   "source": [
    "nba1_etree = etree.HTML(request1.content)\n",
    "# 解析并写入文件\n",
    "result = nba1_etree.xpath('/html/body/div/div/div/table/tbody/tr/td/text()')  # '/html'表示根节点\n",
    "result2 = nba1_etree.xpath('/html/body/div/div/div/table/tbody/tr/td/a/text()')\n",
    "with open('nba.csv','w') as f:\n",
    "    m = 1\n",
    "    for i in result[12:]:\n",
    "        f.write(i)\n",
    "        f.write(',')\n",
    "        m += 1\n",
    "        if m == 11:\n",
    "            f.write('\\n')\n",
    "            m = 1\n",
    "with open('nba_name.csv','w') as f:\n",
    "    n = 1\n",
    "    for i in result2:\n",
    "        f.write(i)\n",
    "        f.write(',')\n",
    "        n += 1\n",
    "        if n == 3:\n",
    "            f.write('\\n')\n",
    "            n = 1"
   ]
  },
  {
   "cell_type": "code",
   "execution_count": 114,
   "metadata": {},
   "outputs": [],
   "source": [
    "# 合并两个表的数据\n",
    "a = pd.read_csv('nba.csv',header=None)\n",
    "b = pd.read_csv('nba_name.csv',header=None)\n",
    "c = pd.concat([b,a],axis=1)\n",
    "c.to_csv('nba_all.csv',index=False)"
   ]
  },
  {
   "cell_type": "code",
   "execution_count": 116,
   "metadata": {},
   "outputs": [],
   "source": []
  }
 ],
 "metadata": {
  "kernelspec": {
   "display_name": "base",
   "language": "python",
   "name": "python3"
  },
  "language_info": {
   "codemirror_mode": {
    "name": "ipython",
    "version": 3
   },
   "file_extension": ".py",
   "mimetype": "text/x-python",
   "name": "python",
   "nbconvert_exporter": "python",
   "pygments_lexer": "ipython3",
   "version": "3.11.4"
  }
 },
 "nbformat": 4,
 "nbformat_minor": 2
}
