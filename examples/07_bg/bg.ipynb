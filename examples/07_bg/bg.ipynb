{
 "cells": [
  {
   "cell_type": "markdown",
   "metadata": {},
   "source": [
    "- 动态数据，加密数据\n",
    "- 使用post请求，需要给服务器传参数\n",
    "  1. 当`Request Payload`时，使用`json={}`\n",
    "  2. 当`From DATA`时，使用 `data={}`\n",
    "- 使用`json()`键值对提取数据\n",
    "- 当遇到403Forbiden时在headers中加一个防盗链\n"
   ]
  },
  {
   "cell_type": "code",
   "execution_count": 15,
   "metadata": {},
   "outputs": [],
   "source": [
    "import requests\n",
    "import execjs\n",
    "import json\n",
    "url = 'https://api.zzzmh.cn/bz/v3/getData'\n",
    "headers = {'User-Agent':'Mozilla/5.0 (Windows NT 10.0; Win64; x64) AppleWebKit/537.36 (KHTML, like Gecko) Chrome/120.0.0.0 Safari/537.36'}\n",
    "data = {'size': 24, \n",
    "        'current': 1, \n",
    "        'sort': 0, \n",
    "        'category': 0, \n",
    "        'resolution': 0, \n",
    "        'color': 0, \n",
    "        'categoryId': 0, \n",
    "        'ratio': 0}"
   ]
  },
  {
   "cell_type": "code",
   "execution_count": 3,
   "metadata": {},
   "outputs": [],
   "source": [
    "response = requests.post(url, json=data, headers=headers)"
   ]
  },
  {
   "cell_type": "code",
   "execution_count": 16,
   "metadata": {},
   "outputs": [
    {
     "name": "stdout",
     "output_type": "stream",
     "text": [
      "{'t': 2, 'w': 1920, 'h': 1080, 'i': 'a6fec42e882111ebb6edd017c2d2eca2'}\n",
      "{'t': 2, 'w': 2560, 'h': 1688, 'i': '5c23d52f880511ebb6edd017c2d2eca2'}\n",
      "{'t': 2, 'w': 2560, 'h': 1572, 'i': 'ce50f113880411ebb6edd017c2d2eca2'}\n",
      "{'t': 2, 'w': 3840, 'h': 1873, 'i': 'ba41a32b219e4b40ad055bbb52935896'}\n",
      "{'t': 2, 'w': 3840, 'h': 2160, 'i': '5848e4a37f5e4fb39f4c4384a9c27523'}\n",
      "{'t': 2, 'w': 1920, 'h': 1246, 'i': 'a47a423f9d1c42f8895c53c72f27ff87'}\n",
      "{'t': 2, 'w': 3840, 'h': 2233, 'i': 'c6ac1e46880411ebb6edd017c2d2eca2'}\n",
      "{'t': 1, 'w': 2560, 'h': 1600, 'i': '724a141e9ffd4a519b9d582151f1c54d'}\n",
      "{'t': 2, 'w': 5120, 'h': 2880, 'i': 'c53c811f880411ebb6edd017c2d2eca2'}\n",
      "{'t': 2, 'w': 2560, 'h': 1440, 'i': '6e501611880511ebb6edd017c2d2eca2'}\n",
      "{'t': 2, 'w': 1920, 'h': 1080, 'i': 'c071cdc46f0c4867a1d52d0cb51fc6d6'}\n",
      "{'t': 1, 'w': 2586, 'h': 1080, 'i': '97b97ee1173042d5ba667df7ecbe43f6'}\n",
      "{'t': 2, 'w': 5472, 'h': 3648, 'i': 'a58cbbffd2aa49c1b1e99990be912f30'}\n",
      "{'t': 2, 'w': 2560, 'h': 1453, 'i': 'd0952a5e880411ebb6edd017c2d2eca2'}\n",
      "{'t': 2, 'w': 3840, 'h': 2160, 'i': '3f30472a880511ebb6edd017c2d2eca2'}\n",
      "{'t': 2, 'w': 2560, 'h': 1440, 'i': '81d1da7e1ba142629967fea196c73e0e'}\n",
      "{'t': 2, 'w': 3840, 'h': 2400, 'i': 'b29f2454efdc4ccb84ce2feb7fa24b83'}\n",
      "{'t': 1, 'w': 4096, 'h': 2465, 'i': 'cee1b243880411ebb6edd017c2d2eca2'}\n",
      "{'t': 2, 'w': 3840, 'h': 2400, 'i': 'cb6a04e0c76f42828ab173cf0555a6a4'}\n",
      "{'t': 2, 'w': 3840, 'h': 2160, 'i': '66a3272c874d41e5b9ec7562fe5822cd'}\n",
      "{'t': 1, 'w': 1920, 'h': 1080, 'i': '865885b0881611ebb6edd017c2d2eca2'}\n",
      "{'t': 2, 'w': 3840, 'h': 2160, 'i': 'bbc58c3d998d4f389fdae649334873f7'}\n",
      "{'t': 2, 'w': 3840, 'h': 2183, 'i': 'b0fced9bf8864e88bb35b437b72f0c14'}\n",
      "{'t': 2, 'w': 3840, 'h': 2160, 'i': '247402b1880511ebb6edd017c2d2eca2'}\n"
     ]
    }
   ],
   "source": [
    "result = response.json()['result']\n",
    "f = open('demo.js').read()\n",
    "js_code = execjs.compile(f)\n",
    "concent = js_code.call('_0x58b5da', result)\n",
    "js_data = json.loads(concent)\n",
    "for i in js_data['list']:\n",
    "    print(i)"
   ]
  },
  {
   "cell_type": "code",
   "execution_count": 17,
   "metadata": {},
   "outputs": [
    {
     "name": "stdout",
     "output_type": "stream",
     "text": [
      "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\n"
     ]
    }
   ],
   "source": [
    "print(result)"
   ]
  }
 ],
 "metadata": {
  "kernelspec": {
   "display_name": "base",
   "language": "python",
   "name": "python3"
  },
  "language_info": {
   "codemirror_mode": {
    "name": "ipython",
    "version": 3
   },
   "file_extension": ".py",
   "mimetype": "text/x-python",
   "name": "python",
   "nbconvert_exporter": "python",
   "pygments_lexer": "ipython3",
   "version": "3.11.4"
  }
 },
 "nbformat": 4,
 "nbformat_minor": 2
}
