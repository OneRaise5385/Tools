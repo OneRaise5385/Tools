{
 "cells": [
  {
   "cell_type": "markdown",
   "metadata": {},
   "source": [
    "- 动态数据，加密数据\n",
    "- 使用post请求，需要给服务器传参数\n",
    "  1. 当`Request Payload`时，使用`json={}`\n",
    "  2. 当`From DATA`时，使用 `data={}`\n"
   ]
  },
  {
   "cell_type": "code",
   "execution_count": 15,
   "metadata": {},
   "outputs": [],
   "source": [
    "import requests\n",
    "\n",
    "url = 'https://api.zzzmh.cn/bz/v3/getData'\n",
    "headers = {'User-Agent':'Mozilla/5.0 (Windows NT 10.0; Win64; x64) AppleWebKit/537.36 (KHTML, like Gecko) Chrome/120.0.0.0 Safari/537.36'}\n",
    "data = {'size': 24, \n",
    "        'current': 1, \n",
    "        'sort': 0, \n",
    "        'category': 0, \n",
    "        'resolution': 0, \n",
    "        'color': 0, \n",
    "        'categoryId': 0, \n",
    "        'ratio': 0}"
   ]
  },
  {
   "cell_type": "code",
   "execution_count": 10,
   "metadata": {},
   "outputs": [],
   "source": [
    "response = requests.post(url, json=data, headers=headers)"
   ]
  },
  {
   "cell_type": "code",
   "execution_count": 14,
   "metadata": {},
   "outputs": [
    {
     "data": {
      "text/plain": [
       "'{\"msg\":\"success\",\"result\":\"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\",\"code\":0}'"
      ]
     },
     "execution_count": 14,
     "metadata": {},
     "output_type": "execute_result"
    }
   ],
   "source": [
    "response.text"
   ]
  }
 ],
 "metadata": {
  "kernelspec": {
   "display_name": "base",
   "language": "python",
   "name": "python3"
  },
  "language_info": {
   "codemirror_mode": {
    "name": "ipython",
    "version": 3
   },
   "file_extension": ".py",
   "mimetype": "text/x-python",
   "name": "python",
   "nbconvert_exporter": "python",
   "pygments_lexer": "ipython3",
   "version": "3.11.4"
  }
 },
 "nbformat": 4,
 "nbformat_minor": 2
}
