{
 "cells": [
  {
   "cell_type": "markdown",
   "metadata": {},
   "source": [
    "### 数据解析\n",
    "- 分类\n",
    "  1. 正则\n",
    "  2. bs4\n",
    "  3. `xpath`\n",
    "- 原理\n",
    "  解析的局部文本内容都会在标签之间或者标签对应的属性中存储\n",
    "  1. 标签定位\n",
    "  2. 标签或标签对应的属性中存储的数据值进行提取（解析） \n",
    "\n",
    "### bs4\n",
    "- 实例化BeautifulSoup对象，将页面源码加载到该对象中\n",
    "- 根据标签属性进行标签定位和标签提取\n",
    "- 提供的数据分析的方法和属性\n",
    "  1. soup.tagName, soup.find('tagName') 返回文件中第一次出现的tagName\n",
    "  2. soup.find('tagName', class_='') 根据属性进行标签定位\n",
    "  3. soup.find_all() 找到符合条件的所有标签\n",
    "  4. soup.select('') 返回的是一个所有满足条件的列表, ''内可以是标签，类，id\n",
    "- 获取标签之间的文本数据\n",
    "  1. soup.a.text\n",
    "  2. soup.a.get_text\n",
    "  3. soup.a.string\n",
    "- 获取标签中的属性值\n",
    "  1. soup.a['herf]"
   ]
  },
  {
   "cell_type": "markdown",
   "metadata": {},
   "source": [
    "## 正则"
   ]
  },
  {
   "cell_type": "code",
   "execution_count": null,
   "metadata": {},
   "outputs": [],
   "source": []
  },
  {
   "cell_type": "markdown",
   "metadata": {},
   "source": [
    "## BeautifulSoup"
   ]
  },
  {
   "cell_type": "code",
   "execution_count": 82,
   "metadata": {},
   "outputs": [],
   "source": [
    "from bs4 import BeautifulSoup\n",
    "import lxml\n",
    "fp = open('anjuke/anjuke.html', 'r', encoding='utf-8')\n",
    "soup = BeautifulSoup(fp, 'lxml')"
   ]
  },
  {
   "cell_type": "code",
   "execution_count": 83,
   "metadata": {},
   "outputs": [],
   "source": [
    "a = soup.find_all('li', class_='hot-house-li')"
   ]
  },
  {
   "cell_type": "code",
   "execution_count": 99,
   "metadata": {},
   "outputs": [
    {
     "data": {
      "text/plain": [
       "[<p class=\"house-title\">高新区 / 科学大道 / 万华城华府</p>,\n",
       " <p class=\"house-title\">高新区 / 科学大道 / 万华城华府</p>,\n",
       " <p class=\"house-title\">高新区 / 科学大道 / WE+空间</p>,\n",
       " <p class=\"house-title\">金水 / 花园路 / 白庙小区</p>,\n",
       " <p class=\"house-title\">金水 / 曼哈顿 / 燕景欣居</p>,\n",
       " <p class=\"house-title\">金水 / 燕庄 / 伟业栖岸</p>,\n",
       " <p class=\"house-title\">高新区 / 科学大道 / 万华城华府</p>,\n",
       " <p class=\"house-title\">金水 / 曼哈顿 / 燕凤小区</p>,\n",
       " <p class=\"house-title\">经开区 / 第八大街 / 宏光合园</p>,\n",
       " <p class=\"house-title\">金水 / 东风路 / 同乐社区(南院)</p>,\n",
       " <p class=\"house-title\">高新区 / 科学大道 / 万华城华府</p>,\n",
       " <p class=\"house-title\">管城 / 管南片 / 中鼎翡翠</p>,\n",
       " <p class=\"house-title\">金水 / 国基路 / 黄河建工集团家属院</p>,\n",
       " <p class=\"house-title\">中原 / 凯旋门 / 豫都学府</p>,\n",
       " <p class=\"house-title\">中原 / 郑上路小学 / 郑轨风尚西苑</p>,\n",
       " <p class=\"house-title\">管城 / 富田太阳城 / 金盾未来花园</p>,\n",
       " <p class=\"house-title\">高新区 / 科学大道 / 万华城华府</p>,\n",
       " <p class=\"house-title\">高新区 / 科学大道 / 万华城华府</p>,\n",
       " <p class=\"house-title\">金水 / 未来路 / 金水花园(东区)</p>,\n",
       " <p class=\"house-title\">高新区 / 科学大道 / 万华城华府</p>]"
      ]
     },
     "execution_count": 99,
     "metadata": {},
     "output_type": "execute_result"
    }
   ],
   "source": [
    "soup.select('.hot-house-li div p')"
   ]
  },
  {
   "cell_type": "code",
   "execution_count": 111,
   "metadata": {},
   "outputs": [
    {
     "data": {
      "text/plain": [
       "<a href=\"https://bj.zu.anjuke.com/\" title=\"北京租房网\">北京</a>"
      ]
     },
     "execution_count": 111,
     "metadata": {},
     "output_type": "execute_result"
    }
   ],
   "source": [
    "soup.a"
   ]
  }
 ],
 "metadata": {
  "kernelspec": {
   "display_name": "base",
   "language": "python",
   "name": "python3"
  },
  "language_info": {
   "codemirror_mode": {
    "name": "ipython",
    "version": 3
   },
   "file_extension": ".py",
   "mimetype": "text/x-python",
   "name": "python",
   "nbconvert_exporter": "python",
   "pygments_lexer": "ipython3",
   "version": "3.11.4"
  }
 },
 "nbformat": 4,
 "nbformat_minor": 2
}
