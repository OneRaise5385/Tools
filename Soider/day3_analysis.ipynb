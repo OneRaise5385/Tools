{
 "cells": [
  {
   "cell_type": "markdown",
   "metadata": {},
   "source": [
    "### 数据解析\n",
    "- 分类\n",
    "  1. 正则\n",
    "  2. bs4\n",
    "  3. `xpath`\n",
    "- 原理\n",
    "  解析的局部文本内容都会在标签之间或者标签对应的属性中存储\n",
    "  1. 标签定位\n",
    "  2. 标签或标签对应的属性中存储的数据值进行提取（解析） \n",
    "\n",
    "### bs4\n",
    "- 实例化BeautifulSoup对象\n",
    "- 提供的数据分析的方法和属性\n",
    "  1. find()\n",
    "  2.  \n"
   ]
  },
  {
   "cell_type": "markdown",
   "metadata": {},
   "source": [
    "## 正则"
   ]
  },
  {
   "cell_type": "code",
   "execution_count": null,
   "metadata": {
    "vscode": {
     "languageId": "plaintext"
    }
   },
   "outputs": [],
   "source": []
  }
 ],
 "metadata": {
  "language_info": {
   "name": "python"
  }
 },
 "nbformat": 4,
 "nbformat_minor": 2
}
