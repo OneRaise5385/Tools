{
 "cells": [
  {
   "cell_type": "markdown",
   "metadata": {},
   "source": [
    "## 代理\n",
    "\n",
    "- 解决封IP的反爬机制\n",
    "  1. 解决访问的限制\n",
    "  2. 隐藏自身ip\n",
    "\n",
    "- 代理相关的网站\n",
    "  1. 快代理\n",
    "  2. 西祠代理\n",
    "\n",
    "- 代理IP的类型\n",
    "  1. http\n",
    "  2. https\n",
    "\n",
    "- 匿名度\n",
    "  1. 透明：服务器知道使用了代理，也知道请求对应的真实ip\n",
    "  2. 匿名：知道使用了代理，不知道真实的ip\n",
    "  3. 高匿：不知道使用了代理，也不知道真实的ip"
   ]
  },
  {
   "cell_type": "code",
   "execution_count": 1,
   "metadata": {},
   "outputs": [],
   "source": [
    "import requests"
   ]
  },
  {
   "cell_type": "code",
   "execution_count": 29,
   "metadata": {},
   "outputs": [],
   "source": [
    "url3 = 'https://ip.900cha.com/'\n",
    "headers = {'User-Agent': 'Mozilla/5.0 (Windows NT 10.0; Win64; x64) AppleWebKit/537.36 (KHTML, like Gecko) Chrome/119.0.0.0 Safari/537.36 Edg/119.0.0.0',}\n",
    "response = requests.get(url3, headers=headers, proxies={'http':'117.157.197.18:3128'})"
   ]
  },
  {
   "cell_type": "markdown",
   "metadata": {},
   "source": []
  }
 ],
 "metadata": {
  "kernelspec": {
   "display_name": "base",
   "language": "python",
   "name": "python3"
  },
  "language_info": {
   "codemirror_mode": {
    "name": "ipython",
    "version": 3
   },
   "file_extension": ".py",
   "mimetype": "text/x-python",
   "name": "python",
   "nbconvert_exporter": "python",
   "pygments_lexer": "ipython3",
   "version": "0.0.0"
  }
 },
 "nbformat": 4,
 "nbformat_minor": 2
}
