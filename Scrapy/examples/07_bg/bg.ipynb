{
 "cells": [
  {
   "cell_type": "markdown",
   "metadata": {},
   "source": [
    "- 动态数据，加密数据\n",
    "- 使用post请求，需要给服务器传参数\n",
    "  1. 当`Request Payload`时，使用`json={}`\n",
    "  2. 当`From DATA`时，使用 `data={}`\n",
    "- 使用`json()`键值对提取数据\n",
    "- 当遇到403Forbiden时在headers中加一个防盗链\n"
   ]
  },
  {
   "cell_type": "code",
   "execution_count": 1,
   "metadata": {},
   "outputs": [],
   "source": [
    "import requests\n",
    "import execjs\n",
    "import json\n",
    "url = 'https://api.zzzmh.cn/bz/v3/getData'\n",
    "headers = {'User-Agent':'Mozilla/5.0 (Windows NT 10.0; Win64; x64) AppleWebKit/537.36 (KHTML, like Gecko) Chrome/120.0.0.0 Safari/537.36',\n",
    "           'Referer':'https://bz.zzzmh.cn/'}\n",
    "data = {'size': 24, \n",
    "        'current': 1, \n",
    "        'sort': 0, \n",
    "        'category': 0, \n",
    "        'resolution': 0, \n",
    "        'color': 0, \n",
    "        'categoryId': 0, \n",
    "        'ratio': 0}"
   ]
  },
  {
   "cell_type": "code",
   "execution_count": 2,
   "metadata": {},
   "outputs": [],
   "source": [
    "response = requests.post(url, json=data, headers=headers)"
   ]
  },
  {
   "cell_type": "code",
   "execution_count": 3,
   "metadata": {},
   "outputs": [],
   "source": [
    "# 带有密文的数据\n",
    "result = response.json()['result']\n",
    "\n",
    "# js\n",
    "f = open('demo.js').read()\n",
    "js_code = execjs.compile(f)\n",
    "\n",
    "# 运行dome.js文件\n",
    "concent = js_code.call('_0x58b5da', result)\n",
    "\n",
    "# 得到数据\n",
    "js_data = json.loads(concent)\n",
    "\n",
    "# 提取数据(图片的链接)\n",
    "img_urls = []\n",
    "for i in js_data['list']:\n",
    "    if i['t'] == 1:\n",
    "        id = i['i'] + '10'\n",
    "    elif i['t'] == 2:\n",
    "        id = i['i'] + '20'\n",
    "\n",
    "    img_url = f'https://api.zzzmh.cn/bz/v3/getUrl/{id}'\n",
    "    img_urls.append(img_url)\n"
   ]
  },
  {
   "cell_type": "code",
   "execution_count": 4,
   "metadata": {},
   "outputs": [],
   "source": [
    "for i in range(len(img_urls)):\n",
    "    src = f'imgs/{i}.jpg'\n",
    "    response2 = requests.get(img_urls[i],headers=headers).content\n",
    "    with open(src,'wb') as f:\n",
    "        f.write(response2)"
   ]
  }
 ],
 "metadata": {
  "kernelspec": {
   "display_name": "base",
   "language": "python",
   "name": "python3"
  },
  "language_info": {
   "codemirror_mode": {
    "name": "ipython",
    "version": 3
   },
   "file_extension": ".py",
   "mimetype": "text/x-python",
   "name": "python",
   "nbconvert_exporter": "python",
   "pygments_lexer": "ipython3",
   "version": "3.11.4"
  }
 },
 "nbformat": 4,
 "nbformat_minor": 2
}
