{
 "cells": [
  {
   "cell_type": "markdown",
   "metadata": {},
   "source": [
    "### start\n",
    "\n",
    "- 爬虫流程\n",
    "1. 获取网页内容\n",
    "2. 解析网页内容\n",
    "3. 储存和分析数据\n",
    "\n",
    "- 两个禁区\n",
    "1. 不能干扰网页的的正常运行\n",
    "2. 不能爬受到法律禁止的数据和信息\n",
    "\n",
    "- 接下来要学的\n",
    "1. 正则表达式\n",
    "2. 多线程\n",
    "\n",
    "- 爬虫类型\n",
    "1. 通用\n",
    "2. 聚焦\n",
    "3. 增量式\n",
    "\n",
    "### robots.txt协议\n",
    "- 君子协议\n",
    "- 规定了哪些数据可以爬取，哪些不能被爬取\n",
    "- 例如淘宝的https://world.taobao.com/robots.txt\n",
    "\n",
    "### http协议\n",
    "- 请求头信息\n",
    "  1. User-Agent\n",
    "  2. Connection\n",
    "\n",
    "- 响应头信息\n",
    "  1. Content_Typt\n",
    "\n",
    "- https\n",
    "  1. 安全的超文本传输协议\n",
    "  2. 数据交互是有数据加密\n",
    "\n",
    "- 加密方式\n",
    "  1. 对称密钥加密\n",
    "  2. 非对称密钥加密\n",
    "  3. 证书密钥加密\n",
    "\n",
    "### requests模块\n",
    "- python中原生的网络请求模块，功能强大，效率高\n",
    "- 作用：模拟浏览器发送请求\n",
    "- 如何使用\n",
    "  1. 指定url\n",
    "  2. 发起请求\n",
    "  3. 获取响应数据\n",
    "  4. 持久化存储数据\n"
   ]
  },
  {
   "cell_type": "markdown",
   "metadata": {},
   "source": [
    "### 豆瓣电影250"
   ]
  },
  {
   "cell_type": "code",
   "execution_count": null,
   "metadata": {},
   "outputs": [],
   "source": [
    "import requests\n",
    "from bs4 import BeautifulSoup\n",
    "\n",
    "headers = {\n",
    "    'User-Agent': 'Mozilla/5.0 (Windows NT 10.0; Win64; x64) AppleWebKit/537.36 (KHTML, like Gecko) Chrome/119.0.0.0 Safari/537.36 Edg/119.0.0.0',}"
   ]
  },
  {
   "cell_type": "code",
   "execution_count": null,
   "metadata": {},
   "outputs": [],
   "source": [
    "for start in range(0,250,25):\n",
    "    # 获取网页内容\n",
    "    response = requests.get(f'https://movie.douban.com/top250?start={start}', headers=headers)\n",
    "    # 解析网页内容\n",
    "    soup = BeautifulSoup(response.text, 'html.parser')\n",
    "    all_title = soup.find_all('span', attrs={'class': 'title'})\n",
    "    for title in all_title:\n",
    "        title_string = title.string\n",
    "        if '/' not in title_string:\n",
    "            print(title_string)"
   ]
  }
 ],
 "metadata": {
  "kernelspec": {
   "display_name": "base",
   "language": "python",
   "name": "python3"
  },
  "language_info": {
   "codemirror_mode": {
    "name": "ipython",
    "version": 3
   },
   "file_extension": ".py",
   "mimetype": "text/x-python",
   "name": "python",
   "nbconvert_exporter": "python",
   "pygments_lexer": "ipython3",
   "version": "3.11.4"
  }
 },
 "nbformat": 4,
 "nbformat_minor": 2
}
