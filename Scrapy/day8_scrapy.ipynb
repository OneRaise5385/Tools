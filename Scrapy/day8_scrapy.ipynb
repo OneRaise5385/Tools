{
 "cells": [
  {
   "cell_type": "markdown",
   "metadata": {},
   "source": [
    "## scrapy框架\n",
    "\n",
    "- 什么是框架\n",
    "  + 框架就是集成了很多功能，具有很强通用性的模板\n",
    "\n",
    "- 学习框架\n",
    "  + 学习框架封装好的各种功能的详细用法\n",
    "\n",
    "- scrapy框架\n",
    "  + 爬虫中封装好的一个明星框架\n",
    "  + 功能：高性能的持久化存储，高性能的数据解析，分布式\n",
    "\n",
    "- scrapy框架的使用\n",
    "  + 环境安装"
   ]
  },
  {
   "cell_type": "code",
   "execution_count": null,
   "metadata": {},
   "outputs": [],
   "source": []
  }
 ],
 "metadata": {
  "kernelspec": {
   "display_name": "base",
   "language": "python",
   "name": "python3"
  },
  "language_info": {
   "name": "python",
   "version": "3.11.4"
  }
 },
 "nbformat": 4,
 "nbformat_minor": 2
}
